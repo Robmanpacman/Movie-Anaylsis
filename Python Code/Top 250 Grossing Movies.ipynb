{
 "cells": [
  {
   "cell_type": "code",
   "execution_count": 32,
   "metadata": {},
   "outputs": [],
   "source": [
    "#importing libraries that are neccessary\n",
    "from bs4 import BeautifulSoup as bs\n",
    "import requests,openpyxl"
   ]
  },
  {
   "cell_type": "code",
   "execution_count": 33,
   "metadata": {},
   "outputs": [
    {
     "name": "stdout",
     "output_type": "stream",
     "text": [
      "['Sheet']\n",
      "['Top Grossing Movies']\n"
     ]
    }
   ],
   "source": [
    "#creating the excel sheet\n",
    "excel = openpyxl.Workbook()\n",
    "print(excel.sheetnames)\n",
    "sheet = excel.active\n",
    "#changing the title of the sheet\n",
    "sheet.title = 'Top Grossing Movies'\n",
    "print(excel.sheetnames)\n",
    "#creating the columns for our sheet\n",
    "sheet.append(['Movie Rank','Movie Name','Year Released','Gross Amount','Rating from Top 250'])"
   ]
  },
  {
   "cell_type": "code",
   "execution_count": 34,
   "metadata": {},
   "outputs": [],
   "source": [
    "#all the different pages that have the information we want\n",
    "links = ['https://www.imdb.com/search/title/?groups=top_250&sort=boxoffice_gross_us,desc',\n",
    "         'https://www.imdb.com/search/title/?groups=top_250&sort=boxoffice_gross_us,desc&start=51&ref_=adv_nxt',\n",
    "         'https://www.imdb.com/search/title/?groups=top_250&sort=boxoffice_gross_us,desc&start=101&ref_=adv_nxt',\n",
    "         'https://www.imdb.com/search/title/?groups=top_250&sort=boxoffice_gross_us,desc&start=151&ref_=adv_nxt',\n",
    "         'https://www.imdb.com/search/title/?groups=top_250&sort=boxoffice_gross_us,desc&start=201&ref_=adv_nxt']\n",
    "\n",
    "#making an array for the results to go into\n",
    "ordered_list = []\n",
    "#for loop that will grab each link and extract the information from those pages\n",
    "for link in links:\n",
    "    url = link\n",
    "\n",
    "    html = requests.get(url)\n",
    "\n",
    "    #making url into beautiful soup object\n",
    "    s = bs(html.content,'html.parser')\n",
    "\n",
    "    #using prettify to make html code readable\n",
    "    contents = s.prettify()\n",
    "\n",
    "    #pointing to specific box where all the information is stored in the html code\n",
    "    movie_list = s.find(class_='lister-list')\n",
    "\n",
    "    #making python find all the boxes where the movie information lies in the html code \n",
    "    movie_detail = movie_list.find_all('div',class_='lister-item-content')\n",
    "\n",
    "    #for loop to extract all the information i want for the top 250 movies\n",
    "    for movie in movie_detail:\n",
    "        #rank variable will return the rank of the movie\n",
    "        rank = movie.find('span',class_='lister-item-index unbold text-primary').text\n",
    "        #name variable will return the name of the movie\n",
    "        name = movie.find('a').text\n",
    "        #year variable will return the year the movie was released\n",
    "        year = movie.find('span',class_='lister-item-year text-muted unbold').text.strip(\"(I) \")\n",
    "        #desired_gross will return the amount that movie made, have to use various functions to clean the text\n",
    "        #making a variable to check if the money sign '$' is in extra_info, then extract the gross amount\n",
    "        money_sign = '$'\n",
    "        extra_info = movie.find('p',class_='sort-num_votes-visible').text\n",
    "        if money_sign in extra_info:\n",
    "            desired_gross = extra_info.split('$')[1] #split will grab the text after the $ which will be the gross amount\n",
    "            desired_gross = desired_gross.partition('|')[0] #partition will grab everything after the | character\n",
    "            desired_gross = desired_gross.strip('\\n') #stripping away the '\\n' that pops up sometimes after the results\n",
    "        else:\n",
    "            desired_gross= \"NULL\" #if no dollar sign is found then the amount is NULL, the website doesnt have it\n",
    "        # rating variable will grab and store their rank in the top 250 movie ratings\n",
    "        rating = extra_info.split('Top 250:')[1]\n",
    "        rating = rating.strip('\\n')\n",
    "        #putting all the information im grabbing into the array i made earlier, and in a specific order to make it look nice \n",
    "        ordered_list.append([rank,name,year,desired_gross,rating])\n",
    "        #also storing results onto the excel sheet made above\n",
    "        sheet.append([rank,name,year,desired_gross,rating])\n",
    "#printing ordered_list to make sure results are correct\n",
    "ordered_list\n",
    "#saving the excel sheet\n",
    "excel.save('IMDB Top Grossing Movies.xlsx')"
   ]
  },
  {
   "cell_type": "code",
   "execution_count": null,
   "metadata": {},
   "outputs": [],
   "source": []
  },
  {
   "cell_type": "code",
   "execution_count": null,
   "metadata": {},
   "outputs": [],
   "source": []
  },
  {
   "cell_type": "code",
   "execution_count": null,
   "metadata": {},
   "outputs": [],
   "source": []
  }
 ],
 "metadata": {
  "kernelspec": {
   "display_name": "Python 3",
   "language": "python",
   "name": "python3"
  },
  "language_info": {
   "codemirror_mode": {
    "name": "ipython",
    "version": 3
   },
   "file_extension": ".py",
   "mimetype": "text/x-python",
   "name": "python",
   "nbconvert_exporter": "python",
   "pygments_lexer": "ipython3",
   "version": "3.11.3"
  },
  "orig_nbformat": 4
 },
 "nbformat": 4,
 "nbformat_minor": 2
}
