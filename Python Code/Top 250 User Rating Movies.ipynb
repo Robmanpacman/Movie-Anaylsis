{
 "cells": [
  {
   "cell_type": "code",
   "execution_count": 1,
   "metadata": {},
   "outputs": [
    {
     "name": "stdout",
     "output_type": "stream",
     "text": [
      "successfully imported libraries!\n"
     ]
    }
   ],
   "source": [
    "#importing neccessary libraries\n",
    "from bs4 import BeautifulSoup as bs\n",
    "import requests,openpyxl\n",
    "print('successfully imported libraries!')"
   ]
  },
  {
   "cell_type": "code",
   "execution_count": 2,
   "metadata": {},
   "outputs": [
    {
     "name": "stdout",
     "output_type": "stream",
     "text": [
      "['Sheet']\n",
      "['Top 250 User Rating Movies']\n"
     ]
    }
   ],
   "source": [
    "#creating the excel sheet\n",
    "excel = openpyxl.Workbook()\n",
    "print(excel.sheetnames)\n",
    "sheet = excel.active\n",
    "#changing the title of the sheet\n",
    "sheet.title = 'Top 250 User Rating Movies'\n",
    "print(excel.sheetnames)\n",
    "#creating the columns for our sheet\n",
    "sheet.append(['Movie Rank','Movie Name','Year Released','User Rating','Genre','Director','Actors','Gross Amount(Millions)'])"
   ]
  },
  {
   "cell_type": "code",
   "execution_count": 3,
   "metadata": {},
   "outputs": [
    {
     "name": "stdout",
     "output_type": "stream",
     "text": [
      "Data has been extracted and saved onto an Excel sheet successfully!\n"
     ]
    }
   ],
   "source": [
    "links = ['https://www.imdb.com/search/title/?groups=top_250&sort=user_rating,desc',\n",
    "         'https://www.imdb.com/search/title/?groups=top_250&sort=user_rating,desc&start=51&ref_=adv_nxt',\n",
    "         'https://www.imdb.com/search/title/?groups=top_250&sort=user_rating,desc&start=101&ref_=adv_nxt',\n",
    "         'https://www.imdb.com/search/title/?groups=top_250&sort=user_rating,desc&start=151&ref_=adv_nxt',\n",
    "         'https://www.imdb.com/search/title/?groups=top_250&sort=user_rating,desc&start=201&ref_=adv_nxt'\n",
    "]\n",
    "for link in links:\n",
    "    url = link\n",
    "\n",
    "    html = requests.get(url)\n",
    "\n",
    "    s = bs(html.content,'html.parser')\n",
    "\n",
    "    contents = s.prettify()\n",
    "\n",
    "    movie_list = s.find(class_='lister-list')\n",
    "\n",
    "    movie_detail = movie_list.find_all(class_='lister-item-content')\n",
    "\n",
    "    for movie in movie_detail:\n",
    "        #grabbing the rank for each movie and storing the result into the 'rank' variable\n",
    "        rank = movie.find(class_='lister-item-index unbold text-primary').text\n",
    "        #grabbing the name for each movie and storing the result into the 'name' variable\n",
    "        name = movie.find('a').text\n",
    "        #grabbing the year that each movie released and storing the result into 'year' variable\n",
    "        year = movie.find(class_='lister-item-year text-muted unbold').text\n",
    "        stripped_year = year.replace('(','').replace(')','').replace('I','')\n",
    "        #grabbing the average user rating from each movie and storing it into 'rating_rank' variable\n",
    "        rating_rank = movie.find(class_='certificate').text\n",
    "        #grabbing the genre for each movie and storing the result into the 'genre' variable\n",
    "        genre = movie.find(class_='genre').text\n",
    "        genre = genre.strip('\\n')\n",
    "        genre = genre.strip('            ')\n",
    "        #going to grab the director names for each movie and store it into the 'director' variable\n",
    "        movie_dir = movie.find_all('p')\n",
    "        second_p_tag = movie_dir[2]\n",
    "        director = second_p_tag.find('a').text\n",
    "        #going to grab the star actors from each movie and store it into the 'stars' variable\n",
    "        find_stars = movie_dir[2]\n",
    "        stars = find_stars.text\n",
    "        stars = stars.split('|')[1]\n",
    "        stars = stars.split('Stars:')[1]\n",
    "        stars = stars.replace('\\n','')\n",
    "        #going to grab the gross amount from each movie and store it into the 'gross' variable\n",
    "        money_sign = '$'\n",
    "        extra_info = movie.find('p',class_='sort-num_votes-visible').text\n",
    "        if money_sign in extra_info:\n",
    "            desired_gross = extra_info.split('$')[1] #split will grab the text after the $ which will be the gross amount\n",
    "            desired_gross = desired_gross.partition('|')[0] #partition will grab everything after the | character\n",
    "            desired_gross = desired_gross.strip('\\n') #stripping away the '\\n' that pops up sometimes after the results\n",
    "        else:\n",
    "            desired_gross= \"NULL\" #if no dollar sign is found then the amount is NULL, the website doesnt have it\n",
    "        #storing results into excel sheet\n",
    "        sheet.append([rank,name,stripped_year,rating_rank,genre,director,stars,desired_gross])\n",
    "#saving excel sheet\n",
    "excel.save('Top 250 User Rating Movies.xlsx')\n",
    "print(\"Data has been extracted and saved onto an Excel sheet successfully!\")"
   ]
  }
 ],
 "metadata": {
  "kernelspec": {
   "display_name": "Python 3",
   "language": "python",
   "name": "python3"
  },
  "language_info": {
   "codemirror_mode": {
    "name": "ipython",
    "version": 3
   },
   "file_extension": ".py",
   "mimetype": "text/x-python",
   "name": "python",
   "nbconvert_exporter": "python",
   "pygments_lexer": "ipython3",
   "version": "3.11.3"
  },
  "orig_nbformat": 4
 },
 "nbformat": 4,
 "nbformat_minor": 2
}
